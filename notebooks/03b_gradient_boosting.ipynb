{
 "cells": [
  {
   "cell_type": "markdown",
   "id": "d1648a46",
   "metadata": {},
   "source": [
    "\n",
    "# 📈 03b — Gradient Boosting (Regressão)\n",
    "\n",
    "Este notebook testa **Gradient Boosting** para prever `IMDB_Rating`.\n",
    "\n",
    "- Entrada: `data/movies.csv`\n",
    "- Saída: `models/imdb_model_gb.pkl`\n",
    "- Observação: o `GradientBoostingRegressor` do scikit-learn **não aceita entrada esparsa**.  \n",
    "  Por isso, quando usamos texto (`Overview`), reduzimos TF‑IDF com **TruncatedSVD** (componentes densos) e usamos `OneHotEncoder(sparse_output=False)`.\n"
   ]
  },
  {
   "cell_type": "code",
   "execution_count": 1,
   "id": "b88135a7",
   "metadata": {},
   "outputs": [],
   "source": [
    "\n",
    "# Imports\n",
    "import warnings\n",
    "warnings.filterwarnings(\"ignore\")\n",
    "\n",
    "import re, os, pickle\n",
    "import numpy as np\n",
    "import pandas as pd\n",
    "import matplotlib.pyplot as plt\n",
    "\n",
    "from sklearn.model_selection import train_test_split, KFold, cross_val_score, GridSearchCV\n",
    "from sklearn.compose import ColumnTransformer\n",
    "from sklearn.pipeline import Pipeline\n",
    "from sklearn.impute import SimpleImputer\n",
    "from sklearn.preprocessing import OneHotEncoder\n",
    "from sklearn.feature_extraction.text import TfidfVectorizer\n",
    "from sklearn.decomposition import TruncatedSVD\n",
    "from sklearn.metrics import mean_squared_error, mean_absolute_error, r2_score\n",
    "from sklearn.ensemble import GradientBoostingRegressor\n"
   ]
  },
  {
   "cell_type": "markdown",
   "id": "e6a7980a",
   "metadata": {},
   "source": [
    "\n",
    "## 1) Carregar e preparar dados\n"
   ]
  },
  {
   "cell_type": "code",
   "execution_count": 2,
   "id": "d4a75d61",
   "metadata": {},
   "outputs": [
    {
     "name": "stdout",
     "output_type": "stream",
     "text": [
      "Shape: (999, 16)\n"
     ]
    }
   ],
   "source": [
    "\n",
    "DATA_PATH = \"../data/movies.csv\"\n",
    "df = pd.read_csv(DATA_PATH)\n",
    "print(\"Shape:\", df.shape)\n",
    "\n",
    "def parse_runtime_to_minutes(runtime):\n",
    "    if pd.isna(runtime):\n",
    "        return np.nan\n",
    "    if isinstance(runtime, (int, float)):\n",
    "        return int(runtime) if runtime > 0 else np.nan\n",
    "    m = re.search(r\"(\\d+)\", str(runtime))\n",
    "    return int(m.group(1)) if m else np.nan\n",
    "\n",
    "def parse_gross_to_number(gross):\n",
    "    if gross is None:\n",
    "        return np.nan\n",
    "    if isinstance(gross, (int, float)):\n",
    "        return float(gross)\n",
    "    s = str(gross).strip()\n",
    "    if s == \"\":\n",
    "        return np.nan\n",
    "    s = s.replace(\",\", \"\").replace(\".\", \"\")\n",
    "    return float(s) if s.isdigit() else np.nan\n",
    "\n",
    "dfc = df.copy()\n",
    "dfc[\"Runtime_min\"] = dfc[\"Runtime\"].apply(parse_runtime_to_minutes)\n",
    "dfc[\"Gross_num\"]   = dfc[\"Gross\"].apply(parse_gross_to_number)\n",
    "dfc[\"Gross_log1p\"] = np.log1p(dfc[\"Gross_num\"])\n",
    "dfc[\"Released_Year_int\"] = pd.to_numeric(dfc[\"Released_Year\"], errors=\"coerce\").astype(\"Int64\")\n",
    "dfc[\"Overview\"] = dfc[\"Overview\"].fillna(\"\")\n"
   ]
  },
  {
   "cell_type": "markdown",
   "id": "339193b1",
   "metadata": {},
   "source": [
    "\n",
    "## 2) Cenário e colunas\n",
    "- `\"post_release\"`: usa `Meta_score` e `Gross`.\n",
    "- `\"early_stage\"`: exclui `Gross` (e opcionalmente `Meta_score`).\n"
   ]
  },
  {
   "cell_type": "code",
   "execution_count": 3,
   "id": "aca53bc8",
   "metadata": {},
   "outputs": [
    {
     "name": "stdout",
     "output_type": "stream",
     "text": [
      "Train: (799, 13)  Test: (200, 13)\n"
     ]
    }
   ],
   "source": [
    "\n",
    "SCENARIO = \"post_release\"   # \"post_release\" | \"early_stage\"\n",
    "use_text = True             # Se True: TF-IDF -> SVD(200)\n",
    "\n",
    "num_base = [\"No_of_Votes\", \"Runtime_min\", \"Released_Year_int\"]\n",
    "cat_cols = [\"Genre\", \"Certificate\", \"Director\", \"Star1\", \"Star2\", \"Star3\", \"Star4\"]\n",
    "text_col = \"Overview\"\n",
    "\n",
    "if SCENARIO == \"post_release\":\n",
    "    num_cols = num_base + [\"Meta_score\", \"Gross_log1p\"]\n",
    "else:\n",
    "    num_cols = num_base\n",
    "    # Opcional: incluir Meta_score se quiser pós-crítica em early-stage\n",
    "    # num_cols += [\"Meta_score\"]\n",
    "\n",
    "y = dfc[\"IMDB_Rating\"].astype(float)\n",
    "X = dfc[num_cols + cat_cols + [text_col]].copy()\n",
    "X_train, X_test, y_train, y_test = train_test_split(X, y, test_size=0.2, random_state=42)\n",
    "print(\"Train:\", X_train.shape, \" Test:\", X_test.shape)\n"
   ]
  },
  {
   "cell_type": "markdown",
   "id": "d48aa60f",
   "metadata": {},
   "source": [
    "\n",
    "## 3) Pipeline (pré-processamento + GradientBoosting)\n",
    "- Numéricas → `SimpleImputer(median)`\n",
    "- Categóricas → `SimpleImputer(most_frequent)` + `OneHotEncoder(sparse_output=False)`\n",
    "- Texto → `TF-IDF` + `TruncatedSVD(n_components=200)` (saída densa)\n"
   ]
  },
  {
   "cell_type": "code",
   "execution_count": 4,
   "id": "a61d6b3d",
   "metadata": {},
   "outputs": [
    {
     "name": "stdout",
     "output_type": "stream",
     "text": [
      "Baseline GB — RMSE: 0.210 | MAE: 0.171 | R²: 0.329\n"
     ]
    }
   ],
   "source": [
    "\n",
    "from sklearn.preprocessing import FunctionTransformer\n",
    "\n",
    "num_pipe = SimpleImputer(strategy=\"median\")\n",
    "cat_pipe = Pipeline([\n",
    "    (\"imputer\", SimpleImputer(strategy=\"most_frequent\")),\n",
    "    (\"onehot\", OneHotEncoder(handle_unknown=\"ignore\", sparse_output=False))\n",
    "])\n",
    "\n",
    "if use_text:\n",
    "    txt_pipe = Pipeline([\n",
    "        (\"tfidf\", TfidfVectorizer(max_features=8000, ngram_range=(1,2), stop_words=\"english\")),\n",
    "        (\"svd\", TruncatedSVD(n_components=200, random_state=42))\n",
    "    ])\n",
    "    pre = ColumnTransformer(\n",
    "        transformers=[\n",
    "            (\"num\", num_pipe, num_cols),\n",
    "            (\"cat\", cat_pipe, cat_cols),\n",
    "            (\"txt\", txt_pipe, text_col)\n",
    "        ],\n",
    "        remainder=\"drop\"\n",
    "    )\n",
    "else:\n",
    "    pre = ColumnTransformer(\n",
    "        transformers=[\n",
    "            (\"num\", num_pipe, num_cols),\n",
    "            (\"cat\", cat_pipe, cat_cols),\n",
    "        ],\n",
    "        remainder=\"drop\"\n",
    "    )\n",
    "\n",
    "est = GradientBoostingRegressor(random_state=42)\n",
    "pipe = Pipeline([(\"pre\", pre), (\"est\", est)])\n",
    "pipe.fit(X_train, y_train)\n",
    "preds = pipe.predict(X_test)\n",
    "rmse = mean_squared_error(y_test, preds, squared=False)\n",
    "mae  = mean_absolute_error(y_test, preds)\n",
    "r2   = r2_score(y_test, preds)\n",
    "print(f\"Baseline GB — RMSE: {rmse:.3f} | MAE: {mae:.3f} | R²: {r2:.3f}\")\n"
   ]
  },
  {
   "cell_type": "markdown",
   "id": "9c573bb2",
   "metadata": {},
   "source": [
    "\n",
    "## 4) Grid Search (pequeno)\n"
   ]
  },
  {
   "cell_type": "code",
   "execution_count": 5,
   "id": "f2c74e7c",
   "metadata": {},
   "outputs": [
    {
     "name": "stdout",
     "output_type": "stream",
     "text": [
      "Fitting 3 folds for each of 16 candidates, totalling 48 fits\n",
      "Best params: {'est__learning_rate': 0.05, 'est__max_depth': 2, 'est__n_estimators': 400, 'est__subsample': 1.0}\n",
      "GB (tuned) — RMSE: 0.211 | MAE: 0.170 | R²: 0.322\n"
     ]
    }
   ],
   "source": [
    "\n",
    "param_grid = {\n",
    "    \"est__n_estimators\": [200, 400],\n",
    "    \"est__learning_rate\": [0.05, 0.1],\n",
    "    \"est__max_depth\": [2, 3],\n",
    "    \"est__subsample\": [0.8, 1.0]\n",
    "}\n",
    "gs = GridSearchCV(pipe, param_grid, cv=3, scoring=\"neg_root_mean_squared_error\", n_jobs=-1, verbose=1)\n",
    "gs.fit(X_train, y_train)\n",
    "best = gs.best_estimator_\n",
    "yp = best.predict(X_test)\n",
    "rmse = mean_squared_error(y_test, yp, squared=False)\n",
    "mae  = mean_absolute_error(y_test, yp)\n",
    "r2   = r2_score(y_test, yp)\n",
    "print(\"Best params:\", gs.best_params_)\n",
    "print(f\"GB (tuned) — RMSE: {rmse:.3f} | MAE: {mae:.3f} | R²: {r2:.3f}\")\n"
   ]
  },
  {
   "cell_type": "markdown",
   "id": "533da654",
   "metadata": {},
   "source": [
    "\n",
    "## 5) Salvamento `.pkl`\n"
   ]
  },
  {
   "cell_type": "code",
   "execution_count": 6,
   "id": "d8ec1f88",
   "metadata": {},
   "outputs": [
    {
     "name": "stdout",
     "output_type": "stream",
     "text": [
      "Salvo em models/imdb_model_gb.pkl\n"
     ]
    }
   ],
   "source": [
    "\n",
    "os.makedirs(\"models\", exist_ok=True)\n",
    "with open(\"models/imdb_model_gb.pkl\", \"wb\") as f:\n",
    "    pickle.dump(best, f)\n",
    "print(\"Salvo em models/imdb_model_gb.pkl\")\n"
   ]
  },
  {
   "cell_type": "markdown",
   "id": "6ffb3013",
   "metadata": {},
   "source": [
    "\n",
    "## 6) Plot de diagnóstico (Previsto vs Real)\n"
   ]
  },
  {
   "cell_type": "code",
   "execution_count": 7,
   "id": "0d4501dd",
   "metadata": {},
   "outputs": [
    {
     "data": {
      "image/png": "[encoded data removed]",
      "text/plain": [
       "<Figure size 500x500 with 1 Axes>"
      ]
     },
     "metadata": {},
     "output_type": "display_data"
    }
   ],
   "source": [
    "\n",
    "fig = plt.figure(figsize=(5,5))\n",
    "plt.scatter(y_test, yp, alpha=0.5)\n",
    "plt.xlabel(\"IMDB_Rating — Real\")\n",
    "plt.ylabel(\"IMDB_Rating — Previsto\")\n",
    "plt.title(\"Previsto vs Real — Gradient Boosting\")\n",
    "mn, mx = float(min(y_test.min(), yp.min())), float(max(y_test.max(), yp.max()))\n",
    "plt.plot([mn, mx], [mn, mx])\n",
    "plt.grid(True, alpha=0.2)\n",
    "plt.show()\n"
   ]
  },
  {
   "cell_type": "code",
   "execution_count": null,
   "id": "867e84e5-8594-4355-ac7e-45c14b66f436",
   "metadata": {},
   "outputs": [],
   "source": []
  }
 ],
 "metadata": {
  "kernelspec": {
   "display_name": "Python 3 (ipykernel)",
   "language": "python",
   "name": "python3"
  },
  "language_info": {
   "codemirror_mode": {
    "name": "ipython",
    "version": 3
   },
   "file_extension": ".py",
   "mimetype": "text/x-python",
   "name": "python",
   "nbconvert_exporter": "python",
   "pygments_lexer": "ipython3",
   "version": "3.12.11"
  }
 },
 "nbformat": 4,
 "nbformat_minor": 5
}
