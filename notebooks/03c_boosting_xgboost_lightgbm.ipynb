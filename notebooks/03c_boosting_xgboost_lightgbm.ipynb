{
 "cells": [
  {
   "cell_type": "markdown",
   "id": "2396d22a",
   "metadata": {},
   "source": [
    "\n",
    "# 🚀 03c — XGBoost & LightGBM (Regressão)\n",
    "\n",
    "Testamos **XGBoost** e **LightGBM** para prever `IMDB_Rating`.\n",
    "\n",
    "- Entrada: `data/movies.csv`\n",
    "- Saídas: `models/imdb_model_xgb.pkl` e `models/imdb_model_lgbm.pkl` (se instalados)\n",
    "- Observação: estes *boosters* lidam bem com **matrizes esparsas**, então podemos manter `OneHotEncoder` e `TF‑IDF` esparsos.\n",
    "- Se você não tiver `xgboost`/`lightgbm` instalados, instale:\n",
    "  ```bash\n",
    "  pip install xgboost lightgbm\n",
    "  ```\n"
   ]
  },
  {
   "cell_type": "code",
   "execution_count": 2,
   "id": "5425839f",
   "metadata": {},
   "outputs": [],
   "source": [
    "\n",
    "# Imports\n",
    "import warnings\n",
    "warnings.filterwarnings(\"ignore\")\n",
    "\n",
    "import re, os, pickle, importlib\n",
    "import numpy as np\n",
    "import pandas as pd\n",
    "import matplotlib.pyplot as plt\n",
    "\n",
    "from sklearn.model_selection import train_test_split, KFold, cross_val_score, GridSearchCV\n",
    "from sklearn.compose import ColumnTransformer\n",
    "from sklearn.pipeline import Pipeline\n",
    "from sklearn.impute import SimpleImputer\n",
    "from sklearn.preprocessing import OneHotEncoder\n",
    "from sklearn.feature_extraction.text import TfidfVectorizer\n",
    "from sklearn.metrics import mean_squared_error, mean_absolute_error, r2_score\n",
    "\n",
    "# Optional boosters\n",
    "have_xgb = importlib.util.find_spec(\"xgboost\") is not None\n",
    "have_lgb = importlib.util.find_spec(\"lightgbm\") is not None\n",
    "\n",
    "if have_xgb:\n",
    "    import xgboost as xgb\n",
    "if have_lgb:\n",
    "    import lightgbm as lgb\n"
   ]
  },
  {
   "cell_type": "markdown",
   "id": "3414fd5c",
   "metadata": {},
   "source": [
    "\n",
    "## 1) Carregar e preparar dados\n"
   ]
  },
  {
   "cell_type": "code",
   "execution_count": 3,
   "id": "ac01ad6d",
   "metadata": {},
   "outputs": [
    {
     "name": "stdout",
     "output_type": "stream",
     "text": [
      "Shape: (999, 16)\n"
     ]
    }
   ],
   "source": [
    "\n",
    "DATA_PATH = \"../data/movies.csv\"\n",
    "df = pd.read_csv(DATA_PATH)\n",
    "print(\"Shape:\", df.shape)\n",
    "\n",
    "def parse_runtime_to_minutes(runtime):\n",
    "    if pd.isna(runtime):\n",
    "        return np.nan\n",
    "    if isinstance(runtime, (int, float)):\n",
    "        return int(runtime) if runtime > 0 else np.nan\n",
    "    m = re.search(r\"(\\d+)\", str(runtime))\n",
    "    return int(m.group(1)) if m else np.nan\n",
    "\n",
    "def parse_gross_to_number(gross):\n",
    "    if gross is None:\n",
    "        return np.nan\n",
    "    if isinstance(gross, (int, float)):\n",
    "        return float(gross)\n",
    "    s = str(gross).strip()\n",
    "    if s == \"\":\n",
    "        return np.nan\n",
    "    s = s.replace(\",\", \"\").replace(\".\", \"\")\n",
    "    return float(s) if s.isdigit() else np.nan\n",
    "\n",
    "dfc = df.copy()\n",
    "dfc[\"Runtime_min\"] = dfc[\"Runtime\"].apply(parse_runtime_to_minutes)\n",
    "dfc[\"Gross_num\"]   = dfc[\"Gross\"].apply(parse_gross_to_number)\n",
    "dfc[\"Gross_log1p\"] = np.log1p(dfc[\"Gross_num\"])\n",
    "dfc[\"Released_Year_int\"] = pd.to_numeric(dfc[\"Released_Year\"], errors=\"coerce\").astype(\"Int64\")\n",
    "dfc[\"Overview\"] = dfc[\"Overview\"].fillna(\"\")\n"
   ]
  },
  {
   "cell_type": "markdown",
   "id": "b70709b7",
   "metadata": {},
   "source": [
    "\n",
    "## 2) Cenário e colunas\n"
   ]
  },
  {
   "cell_type": "code",
   "execution_count": 4,
   "id": "0d35c634",
   "metadata": {},
   "outputs": [
    {
     "name": "stdout",
     "output_type": "stream",
     "text": [
      "Train: (799, 13)  Test: (200, 13)\n"
     ]
    }
   ],
   "source": [
    "\n",
    "SCENARIO = \"post_release\"   # \"post_release\" | \"early_stage\"\n",
    "use_text = True             # pode manter texto esparso\n",
    "\n",
    "num_base = [\"No_of_Votes\", \"Runtime_min\", \"Released_Year_int\"]\n",
    "cat_cols = [\"Genre\", \"Certificate\", \"Director\", \"Star1\", \"Star2\", \"Star3\", \"Star4\"]\n",
    "text_col = \"Overview\"\n",
    "\n",
    "if SCENARIO == \"post_release\":\n",
    "    num_cols = num_base + [\"Meta_score\", \"Gross_log1p\"]\n",
    "else:\n",
    "    num_cols = num_base\n",
    "    # Opcional: num_cols += [\"Meta_score\"]\n",
    "\n",
    "y = dfc[\"IMDB_Rating\"].astype(float)\n",
    "X = dfc[num_cols + cat_cols + [text_col]].copy()\n",
    "X_train, X_test, y_train, y_test = train_test_split(X, y, test_size=0.2, random_state=42)\n",
    "print(\"Train:\", X_train.shape, \" Test:\", X_test.shape)\n"
   ]
  },
  {
   "cell_type": "markdown",
   "id": "6adadd62",
   "metadata": {},
   "source": [
    "\n",
    "## 3) Pré-processamento (esparso) + Modelos\n",
    "- Numéricas → `SimpleImputer(median)`\n",
    "- Categóricas → `SimpleImputer(most_frequent)` + `OneHotEncoder` (esparso)\n",
    "- Texto → `TfidfVectorizer(max_features=12000, ngram_range=(1,2))` (esparso)\n"
   ]
  },
  {
   "cell_type": "code",
   "execution_count": 5,
   "id": "a911fae0",
   "metadata": {},
   "outputs": [],
   "source": [
    "\n",
    "num_pipe = SimpleImputer(strategy=\"median\")\n",
    "cat_pipe = Pipeline([\n",
    "    (\"imputer\", SimpleImputer(strategy=\"most_frequent\")),\n",
    "    (\"onehot\", OneHotEncoder(handle_unknown=\"ignore\"))  # esparso por padrão\n",
    "])\n",
    "\n",
    "pre = ColumnTransformer(\n",
    "    transformers=[\n",
    "        (\"num\", num_pipe, num_cols),\n",
    "        (\"cat\", cat_pipe, cat_cols),\n",
    "        (\"txt\", TfidfVectorizer(max_features=12000, ngram_range=(1,2), stop_words=\"english\"), text_col),\n",
    "    ],\n",
    "    remainder=\"drop\"\n",
    ")\n"
   ]
  },
  {
   "cell_type": "markdown",
   "id": "9577e817",
   "metadata": {},
   "source": [
    "\n",
    "## 4) XGBoost\n"
   ]
  },
  {
   "cell_type": "code",
   "execution_count": 6,
   "id": "a577bb26",
   "metadata": {},
   "outputs": [
    {
     "name": "stdout",
     "output_type": "stream",
     "text": [
      "xgboost não instalado. Rode: pip install xgboost\n"
     ]
    }
   ],
   "source": [
    "\n",
    "if have_xgb:\n",
    "    xgb_est = xgb.XGBRegressor(\n",
    "        n_estimators=800,\n",
    "        max_depth=6,\n",
    "        learning_rate=0.05,\n",
    "        subsample=0.8,\n",
    "        colsample_bytree=0.8,\n",
    "        random_state=42,\n",
    "        n_jobs=-1,\n",
    "        tree_method=\"hist\"\n",
    "    )\n",
    "    xgb_pipe = Pipeline([(\"pre\", pre), (\"est\", xgb_est)])\n",
    "    xgb_pipe.fit(X_train, y_train)\n",
    "    ypx = xgb_pipe.predict(X_test)\n",
    "    rmse = mean_squared_error(y_test, ypx, squared=False)\n",
    "    mae  = mean_absolute_error(y_test, ypx)\n",
    "    r2   = r2_score(y_test, ypx)\n",
    "    print(f\"XGBoost — RMSE: {rmse:.3f} | MAE: {mae:.3f} | R²: {r2:.3f}\")\n",
    "else:\n",
    "    print(\"xgboost não instalado. Rode: pip install xgboost\")\n"
   ]
  },
  {
   "cell_type": "markdown",
   "id": "113e2cba",
   "metadata": {},
   "source": [
    "\n",
    "### Grid Search (pequeno) — XGBoost\n"
   ]
  },
  {
   "cell_type": "code",
   "execution_count": 7,
   "id": "75ee3f84",
   "metadata": {},
   "outputs": [],
   "source": [
    "\n",
    "if have_xgb:\n",
    "    param_grid = {\n",
    "        \"est__n_estimators\": [400, 800],\n",
    "        \"est__max_depth\": [4, 6],\n",
    "        \"est__learning_rate\": [0.05, 0.1],\n",
    "        \"est__subsample\": [0.8, 1.0],\n",
    "        \"est__colsample_bytree\": [0.7, 1.0]\n",
    "    }\n",
    "    gsx = GridSearchCV(xgb_pipe, param_grid, cv=3, scoring=\"neg_root_mean_squared_error\", n_jobs=-1, verbose=1)\n",
    "    gsx.fit(X_train, y_train)\n",
    "    best_xgb = gsx.best_estimator_\n",
    "    ypb = best_xgb.predict(X_test)\n",
    "    rmse = mean_squared_error(y_test, ypb, squared=False)\n",
    "    mae  = mean_absolute_error(y_test, ypb)\n",
    "    r2   = r2_score(y_test, ypb)\n",
    "    print(\"Best XGB params:\", gsx.best_params_)\n",
    "    print(f\"XGB (tuned) — RMSE: {rmse:.3f} | MAE: {mae:.3f} | R²: {r2:.3f}\")\n",
    "else:\n",
    "    pass\n"
   ]
  },
  {
   "cell_type": "markdown",
   "id": "72703c13",
   "metadata": {},
   "source": [
    "\n",
    "## 5) LightGBM\n"
   ]
  },
  {
   "cell_type": "code",
   "execution_count": 8,
   "id": "87eeca5d",
   "metadata": {},
   "outputs": [
    {
     "name": "stdout",
     "output_type": "stream",
     "text": [
      "lightgbm não instalado. Rode: pip install lightgbm\n"
     ]
    }
   ],
   "source": [
    "\n",
    "if have_lgb:\n",
    "    lgb_est = lgb.LGBMRegressor(\n",
    "        n_estimators=1200,\n",
    "        num_leaves=63,\n",
    "        learning_rate=0.05,\n",
    "        subsample=0.8,\n",
    "        colsample_bytree=0.8,\n",
    "        random_state=42,\n",
    "        n_jobs=-1\n",
    "    )\n",
    "    lgb_pipe = Pipeline([(\"pre\", pre), (\"est\", lgb_est)])\n",
    "    lgb_pipe.fit(X_train, y_train)\n",
    "    ypl = lgb_pipe.predict(X_test)\n",
    "    rmse = mean_squared_error(y_test, ypl, squared=False)\n",
    "    mae  = mean_absolute_error(y_test, ypl)\n",
    "    r2   = r2_score(y_test, ypl)\n",
    "    print(f\"LightGBM — RMSE: {rmse:.3f} | MAE: {mae:.3f} | R²: {r2:.3f}\")\n",
    "else:\n",
    "    print(\"lightgbm não instalado. Rode: pip install lightgbm\")\n"
   ]
  },
  {
   "cell_type": "markdown",
   "id": "530d0817",
   "metadata": {},
   "source": [
    "\n",
    "### Grid Search (pequeno) — LightGBM\n"
   ]
  },
  {
   "cell_type": "code",
   "execution_count": 9,
   "id": "6ce01201",
   "metadata": {},
   "outputs": [],
   "source": [
    "\n",
    "if have_lgb:\n",
    "    param_grid = {\n",
    "        \"est__n_estimators\": [800, 1200],\n",
    "        \"est__num_leaves\": [31, 63],\n",
    "        \"est__learning_rate\": [0.05, 0.1],\n",
    "        \"est__subsample\": [0.8, 1.0],\n",
    "        \"est__colsample_bytree\": [0.8, 1.0]\n",
    "    }\n",
    "    gsl = GridSearchCV(lgb_pipe, param_grid, cv=3, scoring=\"neg_root_mean_squared_error\", n_jobs=-1, verbose=1)\n",
    "    gsl.fit(X_train, y_train)\n",
    "    best_lgb = gsl.best_estimator_\n",
    "    ypb = best_lgb.predict(X_test)\n",
    "    rmse = mean_squared_error(y_test, ypb, squared=False)\n",
    "    mae  = mean_absolute_error(y_test, ypb)\n",
    "    r2   = r2_score(y_test, ypb)\n",
    "    print(\"Best LGB params:\", gsl.best_params_)\n",
    "    print(f\"LGB (tuned) — RMSE: {rmse:.3f} | MAE: {mae:.3f} | R²: {r2:.3f}\")\n",
    "else:\n",
    "    pass\n"
   ]
  },
  {
   "cell_type": "markdown",
   "id": "e40f5d8f",
   "metadata": {},
   "source": [
    "\n",
    "## 6) Salvar os melhores (se existirem)\n"
   ]
  },
  {
   "cell_type": "code",
   "execution_count": 10,
   "id": "d46cfe1a",
   "metadata": {},
   "outputs": [],
   "source": [
    "\n",
    "os.makedirs(\"../models\", exist_ok=True)\n",
    "\n",
    "if have_xgb:\n",
    "    with open(\"../models/imdb_model_xgb.pkl\", \"wb\") as f:\n",
    "        pickle.dump(best_xgb if 'best_xgb' in globals() else xgb_pipe, f)\n",
    "    print(\"Modelo XGBoost salvo em models/imdb_model_xgb.pkl\")\n",
    "\n",
    "if have_lgb:\n",
    "    with open(\"../models/imdb_model_lgbm.pkl\", \"wb\") as f:\n",
    "        pickle.dump(best_lgb if 'best_lgb' in globals() else lgb_pipe, f)\n",
    "    print(\"Modelo LightGBM salvo em models/imdb_model_lgbm.pkl\")\n"
   ]
  },
  {
   "cell_type": "code",
   "execution_count": null,
   "id": "54c823e9-d50f-47f5-a1a4-d48f4f19be9a",
   "metadata": {},
   "outputs": [],
   "source": []
  }
 ],
 "metadata": {
  "kernelspec": {
   "display_name": "Python 3 (ipykernel)",
   "language": "python",
   "name": "python3"
  },
  "language_info": {
   "codemirror_mode": {
    "name": "ipython",
    "version": 3
   },
   "file_extension": ".py",
   "mimetype": "text/x-python",
   "name": "python",
   "nbconvert_exporter": "python",
   "pygments_lexer": "ipython3",
   "version": "3.12.11"
  }
 },
 "nbformat": 4,
 "nbformat_minor": 5
}
